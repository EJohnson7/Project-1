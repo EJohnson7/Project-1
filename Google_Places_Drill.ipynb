{
 "cells": [
  {
   "cell_type": "code",
   "execution_count": 53,
   "metadata": {},
   "outputs": [],
   "source": [
    "# Dependencies\n",
    "import requests\n",
    "import json\n",
    "import pandas as pd\n",
    "import numpy as np\n",
    "import csv\n",
    "\n",
    "# Google developer API key\n",
    "from config import gkey"
   ]
  },
  {
   "cell_type": "code",
   "execution_count": 59,
   "metadata": {},
   "outputs": [
    {
     "name": "stdout",
     "output_type": "stream",
     "text": [
      "Fitness centers\n",
      "Core Fitness Miami\n",
      "162 NE 25th St, Miami, FL 33137, USA\n",
      "LA Fitness\n",
      "3301 SW 22nd St, Miami, FL 33145, USA\n",
      "B-Fit Biscayne\n",
      "5080 Biscayne Blvd, Suite 1-B, Miami, FL 33137, United States\n",
      "LA Fitness\n",
      "900 S Miami Ave #236, Miami, FL 33130, USA\n",
      "Orangetheory Fitness\n",
      "244 Biscayne Blvd, Miami, FL 33132, USA\n",
      "Punch Elite Fitness\n",
      "1901 NW Miami Ct, Miami, FL 33136, USA\n",
      "LegacyFit\n",
      "77 NE 24th St, Miami, FL 33137, USA\n",
      "Bodytek Fitness Wynwood - Miami\n",
      "545 NW 28th St, Miami, FL 33127, USA\n",
      "Orangetheory Fitness\n",
      "9017 Biscayne Blvd, Miami Shores, FL 33138, USA\n",
      "24 Hour Fitness\n",
      "2982 Grand Ave, Miami, FL 33133, USA\n",
      "Orangetheory Fitness\n",
      "89 NE 38th St, Miami, FL 33137, USA\n",
      "Equinox South Beach\n",
      "520 Collins Ave, Miami Beach, FL 33139, USA\n",
      "ERA Fit\n",
      "1625 N Miami Ave, Miami, FL 33136, USA\n",
      "Ironflower Fitness\n",
      "7205 NE 4th Ave, Miami, FL 33138, USA\n",
      "Primal Fit 360 Personal Training\n",
      "9531 NE 2nd Ave, Miami Shores, FL 33138, USA\n",
      "DBC Fitness\n",
      "3841 NE 2nd Ave #103, Miami, FL 33137, USA\n",
      "Society Fitness\n",
      "Riverfront, 92 SW 3rd St, Miami, FL 33130, USA\n",
      "Equinox Brickell\n",
      "1441 Brickell Ave #4, Miami, FL 33131, USA\n",
      "Trainer Shawn Personal Fitness Miami Brickell\n",
      "479 SW 3rd St, Miami, FL 33130, USA\n",
      "Vibe Class Miami Beach\n",
      "1000 5th St #101, Miami Beach, FL 33139, USA\n"
     ]
    }
   ],
   "source": [
    "# 6. Bonus: Find the names and addresses of the top five restaurants in your home city.\n",
    "#    Hint: Read about \"Text Search Results\"\n",
    "# (https://developers.google.com/places/web-service/search#TextSearchRequests)\n",
    "my_phrase = \"Fitness Miami\"\n",
    "target_url = \"https://maps.googleapis.com/maps/api/place/textsearch/json\"\n",
    "\n",
    "params = {\n",
    "    \"query\": my_phrase,\n",
    "    \"key\": gkey\n",
    "}\n",
    "\n",
    "print(\"Fitness centers\")\n",
    "\n",
    "response = requests.get(target_url, params)\n",
    "\n",
    "# print the response URL, avoid doing for public GitHub repos in order to avoid exposing key\n",
    "# print(response.url)\n",
    "fitness_centers = response.json()\n",
    "# print(json.dumps(happy_places, indent=4, sort_keys=True))\n",
    "\n",
    "for place in fitness_centers[\"results\"]:\n",
    "    print(place[\"name\"])\n",
    "    print(place[\"formatted_address\"])"
   ]
  },
  {
   "cell_type": "code",
   "execution_count": 55,
   "metadata": {},
   "outputs": [
    {
     "ename": "AttributeError",
     "evalue": "'dict' object has no attribute 'df'",
     "output_type": "error",
     "traceback": [
      "\u001b[1;31m---------------------------------------------------------------------------\u001b[0m",
      "\u001b[1;31mAttributeError\u001b[0m                            Traceback (most recent call last)",
      "\u001b[1;32m<ipython-input-55-4306cac64032>\u001b[0m in \u001b[0;36m<module>\u001b[1;34m\u001b[0m\n\u001b[0;32m      1\u001b[0m \u001b[1;31m# Add columns for lat, lng, airport name, airport address, airport rating\u001b[0m\u001b[1;33m\u001b[0m\u001b[1;33m\u001b[0m\u001b[1;33m\u001b[0m\u001b[0m\n\u001b[0;32m      2\u001b[0m \u001b[1;31m# Note that we used \"\" to specify initial entry.\u001b[0m\u001b[1;33m\u001b[0m\u001b[1;33m\u001b[0m\u001b[1;33m\u001b[0m\u001b[0m\n\u001b[1;32m----> 3\u001b[1;33m \u001b[0mfitness_centers\u001b[0m\u001b[1;33m.\u001b[0m\u001b[0mdf\u001b[0m\u001b[1;33m=\u001b[0m\u001b[0mpd\u001b[0m\u001b[1;33m.\u001b[0m\u001b[0mDataFrame\u001b[0m\u001b[1;33m(\u001b[0m\u001b[1;33m[\u001b[0m\u001b[0mfitness_centers\u001b[0m\u001b[1;33m]\u001b[0m\u001b[1;33m)\u001b[0m\u001b[1;33m\u001b[0m\u001b[1;33m\u001b[0m\u001b[0m\n\u001b[0m",
      "\u001b[1;31mAttributeError\u001b[0m: 'dict' object has no attribute 'df'"
     ]
    }
   ],
   "source": [
    "# Add columns for lat, lng, airport name, airport address, airport rating\n",
    "# Note that we used \"\" to specify initial entry.\n",
    "fitness_centers.df=pd.DataFrame([fitness_centers])"
   ]
  },
  {
   "cell_type": "code",
   "execution_count": null,
   "metadata": {},
   "outputs": [],
   "source": []
  }
 ],
 "metadata": {
  "kernelspec": {
   "display_name": "Python 3",
   "language": "python",
   "name": "python3"
  },
  "language_info": {
   "codemirror_mode": {
    "name": "ipython",
    "version": 3
   },
   "file_extension": ".py",
   "mimetype": "text/x-python",
   "name": "python",
   "nbconvert_exporter": "python",
   "pygments_lexer": "ipython3",
   "version": "3.7.1"
  }
 },
 "nbformat": 4,
 "nbformat_minor": 2
}
