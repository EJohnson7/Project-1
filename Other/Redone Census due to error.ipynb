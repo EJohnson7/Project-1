{
 "cells": [
  {
   "cell_type": "code",
   "execution_count": null,
   "metadata": {},
   "outputs": [],
   "source": [
    "# Dependencies \n",
    "import requests\n",
    "import json\n",
    "import pandas as pd\n",
    "from census import Census\n",
    "#import import_ipynb\n",
    "\n",
    "# Census API Key\n",
    "from config import api_key\n",
    "c = Census(api_key, year=2016)"
   ]
  },
  {
   "cell_type": "code",
   "execution_count": null,
   "metadata": {},
   "outputs": [],
   "source": [
    "# Run Census Search to retrieve data on all zip codes (2016 ACS5 Census)\n",
    "census_data = c.acs5.get((\"NAME\", \"B19013_001E\", \"B01003_001E\", \"B02001_002E\",\n",
    "                          \"B02001_003E\", \"B02001_004E\", \"B02001_005E\",\n",
    "                          \"B02001_006E\",\"B02001_008E\", \"B03001_003E\", \"B01002_001E\", \n",
    "                          \"B01002_002E\",\"B01002_003E\",\"B19301_001E\", \"B15003_017E\",\n",
    "                          \"B15003_018E\",\"B15003_021E\",\"B15003_022E\",\"B15003_023E\",\n",
    "                          \"B15003_024E\",\"B15003_025E\"), \n",
    "                          {'for': 'zip code tabulation area:*'})\n",
    "\n",
    "# Convert to DataFrame\n",
    "census_pd = pd.DataFrame(census_data)\n",
    "\n",
    "census_pd.head()"
   ]
  },
  {
   "cell_type": "code",
   "execution_count": null,
   "metadata": {},
   "outputs": [],
   "source": [
    "# Column Reordering\n",
    "census_pd = census_pd.rename(columns={\"B19013_001E\": \"Income\" , \n",
    "                                      \"B19301_001E\" :\"Income per Capita\",\n",
    "                                      \"B01003_001E\": \"Population\", \n",
    "                                      \"B02001_002E\": \"Population White\",\n",
    "                                      \"B02001_003E\": \"Population Black\",\n",
    "                                      \"B02001_004E\": \"Population American Indian\", \n",
    "                                      \"B02001_005E\": \"Population Asian\",\n",
    "                                      \"B02001_006E\": \"Population Hawaiian\",\n",
    "                                      \"B02001_008E\": \"Population 2 or more Races\", \n",
    "                                      \"B03001_003E\": \"Population Hispanic\", \n",
    "                                      \"B15003_017E\": \"Education High School\",\n",
    "                                      \"B15003_018E\": \"Education GED\",\n",
    "                                      \"B15003_021E\": \"Education Associates\",\n",
    "                                      \"B15003_022E\": \"Education Bachelors\",\n",
    "                                      \"B15003_023E\": \"Education Masters\",\n",
    "                                      \"B15003_024E\": \"Education Professional\",\n",
    "                                      \"B15003_025E\": \"Education Doctorate\",\n",
    "                                      \"B01002_001E\": \"Age\", \n",
    "                                      \"B01002_002E\": \"Median Male Age\",\n",
    "                                      \"B01002_003E\": \"Median Female Age\",\n",
    "                                      \"NAME\": \"Name\", \n",
    "                                      \"zip code tabulation area\": \"Zipcode\"})\n",
    "\n",
    "    \n",
    "                      \n",
    "\n",
    "# Final DataFrame\n",
    "census_pd = census_pd[[\"Zipcode\",\"Income\",\n",
    "                       \"Income per Capita\",\n",
    "                       \"Population\",\n",
    "                       \"Population White\",\n",
    "                       \"Population Black\",\n",
    "                       \"Population American Indian\", \n",
    "                       \"Population Asian\",\n",
    "                       \"Population Hawaiian\",\n",
    "                       \"Population 2 or more Races\", \n",
    "                       \"Population Hispanic\", \n",
    "                       \"Education High School\",\n",
    "                       \"Education GED\",\n",
    "                       \"Education Associates\",\n",
    "                       \"Education Bachelors\",\n",
    "                       \"Education Masters\",\n",
    "                       \"Education Professional\",\n",
    "                       \"Education Doctorate\",\n",
    "                       \"Age\", \n",
    "                       \"Median Male Age\",  \n",
    "                       \"Median Female Age\"\n",
    "                    ]]\n",
    "\n",
    "# Visualize\n",
    "print(len(census_pd))\n",
    "census_pd.head()"
   ]
  },
  {
   "cell_type": "code",
   "execution_count": null,
   "metadata": {},
   "outputs": [],
   "source": [
    "# Save as a csv\n",
    "# Note to avoid any issues later, use encoding=\"utf-8\"\n",
    "census_pd.to_csv(\"census_data.csv\", encoding=\"utf-8\", index=False)"
   ]
  },
  {
   "cell_type": "code",
   "execution_count": null,
   "metadata": {},
   "outputs": [],
   "source": [
    "allcensus=pd.read_csv(\"complete_census_data.csv\", encoding=\"utf-8\")\n",
    "allcensus.head()"
   ]
  },
  {
   "cell_type": "code",
   "execution_count": null,
   "metadata": {
    "scrolled": true
   },
   "outputs": [],
   "source": [
    "#To select rows whose column value is in list \n",
    "Zip_code = [33114, 33002, 33018, 33017, 33016, 33015, 33014, 33013, 33012, 33011, 33010, 33092, \n",
    "         33090, 33039, 33035, 33034, 33031, 33032, 33030, 33033, 33149, 33181, 33182, 33183, \n",
    "         33184, 33185, 33186, 33187, 33188, 33189, 33190, 33180, 33179, 33178, 33166, 33167, \n",
    "         33168, 33169, 33172, 33173, 33174, 33175, 33176, 33177, 33165, 33193, 33194, 33247, \n",
    "         33255, 33256, 33257, 33261, 33265, 33266, 33269, 33280, 33283, 33245, 33243, 33242, \n",
    "         33196, 33197, 33199, 33206, 33222, 33231, 33233, 33234, 33238, 33299, 33296, 33164, \n",
    "         33101, 33130, 33131, 33132, 33133, 33134, 33135, 33136, 33137, 33138, 33129, 33128, \n",
    "         33127, 33102, 33106, 33111, 33112, 33116, 33122, 33124, 33125, 33126, 33170, 33156, \n",
    "         33158, 33157, 33161, 33155, 33162, 33153, 33152, 33151, 33150, 33163, 33142, 33143, \n",
    "         33144, 33145, 33146, 33147, 33159, 33109, 33139, 33141, 33154, 33140, 33119, 33239, \n",
    "         33056, 33160, 33055, 33054]\n",
    "miazip=allcensus.Zipcode.isin(Zip_code)\n",
    "miazip"
   ]
  },
  {
   "cell_type": "code",
   "execution_count": null,
   "metadata": {},
   "outputs": [],
   "source": [
    "miacensus_pd= allcensus[allcensus.Zipcode.isin(Zip_code)]\n",
    "miacensus_pd"
   ]
  },
  {
   "cell_type": "code",
   "execution_count": null,
   "metadata": {},
   "outputs": [],
   "source": [
    "miacensus_pd.to_csv(\"complete_miacensus_data.csv\", encoding= \"utf-8\", index=False)"
   ]
  },
  {
   "cell_type": "code",
   "execution_count": null,
   "metadata": {},
   "outputs": [],
   "source": []
  },
  {
   "cell_type": "code",
   "execution_count": null,
   "metadata": {},
   "outputs": [],
   "source": []
  },
  {
   "cell_type": "code",
   "execution_count": null,
   "metadata": {},
   "outputs": [],
   "source": []
  },
  {
   "cell_type": "code",
   "execution_count": null,
   "metadata": {},
   "outputs": [],
   "source": []
  },
  {
   "cell_type": "code",
   "execution_count": null,
   "metadata": {},
   "outputs": [],
   "source": []
  }
 ],
 "metadata": {
  "kernelspec": {
   "display_name": "Python 3",
   "language": "python",
   "name": "python3"
  },
  "language_info": {
   "codemirror_mode": {
    "name": "ipython",
    "version": 3
   },
   "file_extension": ".py",
   "mimetype": "text/x-python",
   "name": "python",
   "nbconvert_exporter": "python",
   "pygments_lexer": "ipython3",
   "version": "3.7.1"
  }
 },
 "nbformat": 4,
 "nbformat_minor": 2
}
