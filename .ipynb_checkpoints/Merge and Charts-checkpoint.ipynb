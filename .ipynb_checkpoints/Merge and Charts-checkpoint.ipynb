{
 "cells": [
  {
   "cell_type": "code",
   "execution_count": 1,
   "metadata": {},
   "outputs": [],
   "source": [
    "# Dependencies\n",
    "import requests\n",
    "import json\n",
    "import pandas as pd\n",
    "import numpy as np\n",
    "import csv\n",
    "from pprint import pprint\n",
    "\n",
    "# Google developer API key\n",
    "from config import gkey"
   ]
  },
  {
   "cell_type": "code",
   "execution_count": 2,
   "metadata": {},
   "outputs": [
    {
     "data": {
      "text/html": [
       "<div>\n",
       "<style scoped>\n",
       "    .dataframe tbody tr th:only-of-type {\n",
       "        vertical-align: middle;\n",
       "    }\n",
       "\n",
       "    .dataframe tbody tr th {\n",
       "        vertical-align: top;\n",
       "    }\n",
       "\n",
       "    .dataframe thead th {\n",
       "        text-align: right;\n",
       "    }\n",
       "</style>\n",
       "<table border=\"1\" class=\"dataframe\">\n",
       "  <thead>\n",
       "    <tr style=\"text-align: right;\">\n",
       "      <th></th>\n",
       "      <th>Zipcode</th>\n",
       "      <th>Income</th>\n",
       "      <th>Population</th>\n",
       "      <th>Population White</th>\n",
       "      <th>Population White.1</th>\n",
       "      <th>Population Black</th>\n",
       "      <th>Population American Indian</th>\n",
       "      <th>Population Asian</th>\n",
       "      <th>Population Hawaiian</th>\n",
       "      <th>Population 2 or more Races</th>\n",
       "      <th>Population Hispanic</th>\n",
       "      <th>Age</th>\n",
       "      <th>Median Male Age</th>\n",
       "      <th>Median Female Age</th>\n",
       "    </tr>\n",
       "  </thead>\n",
       "  <tbody>\n",
       "    <tr>\n",
       "      <th>0</th>\n",
       "      <td>1001</td>\n",
       "      <td>56714.0</td>\n",
       "      <td>17423.0</td>\n",
       "      <td>15974.0</td>\n",
       "      <td>15974.0</td>\n",
       "      <td>256.0</td>\n",
       "      <td>5.0</td>\n",
       "      <td>703.0</td>\n",
       "      <td>24.0</td>\n",
       "      <td>184.0</td>\n",
       "      <td>1314.0</td>\n",
       "      <td>45.0</td>\n",
       "      <td>41.6</td>\n",
       "      <td>48.1</td>\n",
       "    </tr>\n",
       "    <tr>\n",
       "      <th>1</th>\n",
       "      <td>1002</td>\n",
       "      <td>48923.0</td>\n",
       "      <td>29970.0</td>\n",
       "      <td>23459.0</td>\n",
       "      <td>23459.0</td>\n",
       "      <td>1711.0</td>\n",
       "      <td>140.0</td>\n",
       "      <td>3502.0</td>\n",
       "      <td>17.0</td>\n",
       "      <td>911.0</td>\n",
       "      <td>1870.0</td>\n",
       "      <td>23.2</td>\n",
       "      <td>23.3</td>\n",
       "      <td>23.2</td>\n",
       "    </tr>\n",
       "    <tr>\n",
       "      <th>2</th>\n",
       "      <td>1003</td>\n",
       "      <td>2499.0</td>\n",
       "      <td>11296.0</td>\n",
       "      <td>8698.0</td>\n",
       "      <td>8698.0</td>\n",
       "      <td>660.0</td>\n",
       "      <td>30.0</td>\n",
       "      <td>1538.0</td>\n",
       "      <td>0.0</td>\n",
       "      <td>240.0</td>\n",
       "      <td>526.0</td>\n",
       "      <td>19.9</td>\n",
       "      <td>19.9</td>\n",
       "      <td>19.9</td>\n",
       "    </tr>\n",
       "    <tr>\n",
       "      <th>3</th>\n",
       "      <td>1005</td>\n",
       "      <td>70568.0</td>\n",
       "      <td>5228.0</td>\n",
       "      <td>5063.0</td>\n",
       "      <td>5063.0</td>\n",
       "      <td>105.0</td>\n",
       "      <td>0.0</td>\n",
       "      <td>32.0</td>\n",
       "      <td>18.0</td>\n",
       "      <td>8.0</td>\n",
       "      <td>77.0</td>\n",
       "      <td>44.1</td>\n",
       "      <td>41.6</td>\n",
       "      <td>47.4</td>\n",
       "    </tr>\n",
       "    <tr>\n",
       "      <th>4</th>\n",
       "      <td>1007</td>\n",
       "      <td>80502.0</td>\n",
       "      <td>14888.0</td>\n",
       "      <td>13906.0</td>\n",
       "      <td>13906.0</td>\n",
       "      <td>125.0</td>\n",
       "      <td>0.0</td>\n",
       "      <td>443.0</td>\n",
       "      <td>0.0</td>\n",
       "      <td>380.0</td>\n",
       "      <td>305.0</td>\n",
       "      <td>42.5</td>\n",
       "      <td>40.2</td>\n",
       "      <td>43.8</td>\n",
       "    </tr>\n",
       "  </tbody>\n",
       "</table>\n",
       "</div>"
      ],
      "text/plain": [
       "   Zipcode   Income  Population  Population White  Population White.1  \\\n",
       "0     1001  56714.0     17423.0           15974.0             15974.0   \n",
       "1     1002  48923.0     29970.0           23459.0             23459.0   \n",
       "2     1003   2499.0     11296.0            8698.0              8698.0   \n",
       "3     1005  70568.0      5228.0            5063.0              5063.0   \n",
       "4     1007  80502.0     14888.0           13906.0             13906.0   \n",
       "\n",
       "   Population Black  Population American Indian  Population Asian  \\\n",
       "0             256.0                         5.0             703.0   \n",
       "1            1711.0                       140.0            3502.0   \n",
       "2             660.0                        30.0            1538.0   \n",
       "3             105.0                         0.0              32.0   \n",
       "4             125.0                         0.0             443.0   \n",
       "\n",
       "   Population Hawaiian  Population 2 or more Races  Population Hispanic   Age  \\\n",
       "0                 24.0                       184.0               1314.0  45.0   \n",
       "1                 17.0                       911.0               1870.0  23.2   \n",
       "2                  0.0                       240.0                526.0  19.9   \n",
       "3                 18.0                         8.0                 77.0  44.1   \n",
       "4                  0.0                       380.0                305.0  42.5   \n",
       "\n",
       "   Median Male Age  Median Female Age  \n",
       "0             41.6               48.1  \n",
       "1             23.3               23.2  \n",
       "2             19.9               19.9  \n",
       "3             41.6               47.4  \n",
       "4             40.2               43.8  "
      ]
     },
     "execution_count": 2,
     "metadata": {},
     "output_type": "execute_result"
    }
   ],
   "source": [
    "#Read Dataframes\n",
    "miacensus=pd.read_csv(\"miacensus_data.csv\", encoding=\"utf-8\")\n",
    "miacensus.head()"
   ]
  },
  {
   "cell_type": "code",
   "execution_count": null,
   "metadata": {},
   "outputs": [],
   "source": [
    "#Get Data from frames:\n",
    "#Find Mean and Median Income per Zipcode\n",
    "#Find Mean and Median Age per Zipcode\n",
    "#Find Mean and Median Education per Population\n",
    "#Count for gyms per zipcode"
   ]
  },
  {
   "cell_type": "markdown",
   "metadata": {},
   "source": [
    "Create Dataframe"
   ]
  },
  {
   "cell_type": "code",
   "execution_count": null,
   "metadata": {},
   "outputs": [],
   "source": [
    "#Merge Both Dataframes on Zip Code only keeping where both data are available\n",
    "\n",
    "#If time merge with other datframes such as kaggle income and yelp"
   ]
  },
  {
   "cell_type": "markdown",
   "metadata": {},
   "source": [
    "Frequency and Zip Code"
   ]
  },
  {
   "cell_type": "code",
   "execution_count": null,
   "metadata": {},
   "outputs": [],
   "source": [
    "#Heat Map with gyms and Zipcodes"
   ]
  },
  {
   "cell_type": "markdown",
   "metadata": {},
   "source": [
    "Frequency and Income"
   ]
  },
  {
   "cell_type": "code",
   "execution_count": null,
   "metadata": {},
   "outputs": [],
   "source": [
    "#Line Graph comparing Income of zipcodes from least to greatest and Frequency "
   ]
  },
  {
   "cell_type": "markdown",
   "metadata": {},
   "source": [
    "Frequency and Age"
   ]
  },
  {
   "cell_type": "code",
   "execution_count": null,
   "metadata": {},
   "outputs": [],
   "source": [
    "#Line Graph comparing age of zipcodes from least to greatest and Frequency "
   ]
  },
  {
   "cell_type": "markdown",
   "metadata": {},
   "source": [
    "Frequency and Education"
   ]
  },
  {
   "cell_type": "code",
   "execution_count": null,
   "metadata": {},
   "outputs": [],
   "source": [
    "#Line Graph comparing education of zipcodes from least to greatest and Frequency "
   ]
  },
  {
   "cell_type": "code",
   "execution_count": null,
   "metadata": {},
   "outputs": [],
   "source": []
  }
 ],
 "metadata": {
  "kernelspec": {
   "display_name": "Python 3",
   "language": "python",
   "name": "python3"
  },
  "language_info": {
   "codemirror_mode": {
    "name": "ipython",
    "version": 3
   },
   "file_extension": ".py",
   "mimetype": "text/x-python",
   "name": "python",
   "nbconvert_exporter": "python",
   "pygments_lexer": "ipython3",
   "version": "3.7.1"
  }
 },
 "nbformat": 4,
 "nbformat_minor": 2
}
