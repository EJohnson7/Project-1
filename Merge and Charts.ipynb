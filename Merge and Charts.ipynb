{
 "cells": [
  {
   "cell_type": "code",
   "execution_count": 1,
   "metadata": {},
   "outputs": [],
   "source": [
    "# Dependencies\n",
    "import requests\n",
    "import json\n",
    "import pandas as pd\n",
    "import numpy as np\n",
    "import csv\n",
    "from pprint import pprint\n",
    "\n",
    "# Google developer API key\n",
    "from config import gkey"
   ]
  },
  {
   "cell_type": "code",
   "execution_count": 2,
   "metadata": {},
   "outputs": [
    {
     "data": {
      "text/html": [
       "<div>\n",
       "<style scoped>\n",
       "    .dataframe tbody tr th:only-of-type {\n",
       "        vertical-align: middle;\n",
       "    }\n",
       "\n",
       "    .dataframe tbody tr th {\n",
       "        vertical-align: top;\n",
       "    }\n",
       "\n",
       "    .dataframe thead th {\n",
       "        text-align: right;\n",
       "    }\n",
       "</style>\n",
       "<table border=\"1\" class=\"dataframe\">\n",
       "  <thead>\n",
       "    <tr style=\"text-align: right;\">\n",
       "      <th></th>\n",
       "      <th>Zipcode</th>\n",
       "      <th>Income</th>\n",
       "      <th>Population</th>\n",
       "      <th>Population White</th>\n",
       "      <th>Population White.1</th>\n",
       "      <th>Population Black</th>\n",
       "      <th>Population American Indian</th>\n",
       "      <th>Population Asian</th>\n",
       "      <th>Population Hawaiian</th>\n",
       "      <th>Population 2 or more Races</th>\n",
       "      <th>Population Hispanic</th>\n",
       "      <th>Age</th>\n",
       "      <th>Median Male Age</th>\n",
       "      <th>Median Female Age</th>\n",
       "    </tr>\n",
       "  </thead>\n",
       "  <tbody>\n",
       "    <tr>\n",
       "      <th>0</th>\n",
       "      <td>33010</td>\n",
       "      <td>23876.0</td>\n",
       "      <td>47581.0</td>\n",
       "      <td>44920.0</td>\n",
       "      <td>44920.0</td>\n",
       "      <td>1607.0</td>\n",
       "      <td>37.0</td>\n",
       "      <td>56.0</td>\n",
       "      <td>24.0</td>\n",
       "      <td>299.0</td>\n",
       "      <td>45591.0</td>\n",
       "      <td>44.0</td>\n",
       "      <td>42.9</td>\n",
       "      <td>45.1</td>\n",
       "    </tr>\n",
       "    <tr>\n",
       "      <th>1</th>\n",
       "      <td>33012</td>\n",
       "      <td>30901.0</td>\n",
       "      <td>76384.0</td>\n",
       "      <td>71777.0</td>\n",
       "      <td>71777.0</td>\n",
       "      <td>1461.0</td>\n",
       "      <td>6.0</td>\n",
       "      <td>181.0</td>\n",
       "      <td>0.0</td>\n",
       "      <td>705.0</td>\n",
       "      <td>73752.0</td>\n",
       "      <td>45.2</td>\n",
       "      <td>43.9</td>\n",
       "      <td>46.6</td>\n",
       "    </tr>\n",
       "    <tr>\n",
       "      <th>2</th>\n",
       "      <td>33013</td>\n",
       "      <td>28886.0</td>\n",
       "      <td>33430.0</td>\n",
       "      <td>31904.0</td>\n",
       "      <td>31904.0</td>\n",
       "      <td>947.0</td>\n",
       "      <td>0.0</td>\n",
       "      <td>36.0</td>\n",
       "      <td>0.0</td>\n",
       "      <td>147.0</td>\n",
       "      <td>32144.0</td>\n",
       "      <td>45.6</td>\n",
       "      <td>44.0</td>\n",
       "      <td>47.0</td>\n",
       "    </tr>\n",
       "    <tr>\n",
       "      <th>3</th>\n",
       "      <td>33014</td>\n",
       "      <td>37142.0</td>\n",
       "      <td>40187.0</td>\n",
       "      <td>36770.0</td>\n",
       "      <td>36770.0</td>\n",
       "      <td>1583.0</td>\n",
       "      <td>36.0</td>\n",
       "      <td>316.0</td>\n",
       "      <td>0.0</td>\n",
       "      <td>444.0</td>\n",
       "      <td>35651.0</td>\n",
       "      <td>40.5</td>\n",
       "      <td>38.4</td>\n",
       "      <td>42.8</td>\n",
       "    </tr>\n",
       "    <tr>\n",
       "      <th>4</th>\n",
       "      <td>33015</td>\n",
       "      <td>48170.0</td>\n",
       "      <td>68143.0</td>\n",
       "      <td>58149.0</td>\n",
       "      <td>58149.0</td>\n",
       "      <td>6212.0</td>\n",
       "      <td>100.0</td>\n",
       "      <td>885.0</td>\n",
       "      <td>0.0</td>\n",
       "      <td>715.0</td>\n",
       "      <td>56356.0</td>\n",
       "      <td>37.0</td>\n",
       "      <td>35.6</td>\n",
       "      <td>38.2</td>\n",
       "    </tr>\n",
       "  </tbody>\n",
       "</table>\n",
       "</div>"
      ],
      "text/plain": [
       "   Zipcode   Income  Population  Population White  Population White.1  \\\n",
       "0    33010  23876.0     47581.0           44920.0             44920.0   \n",
       "1    33012  30901.0     76384.0           71777.0             71777.0   \n",
       "2    33013  28886.0     33430.0           31904.0             31904.0   \n",
       "3    33014  37142.0     40187.0           36770.0             36770.0   \n",
       "4    33015  48170.0     68143.0           58149.0             58149.0   \n",
       "\n",
       "   Population Black  Population American Indian  Population Asian  \\\n",
       "0            1607.0                        37.0              56.0   \n",
       "1            1461.0                         6.0             181.0   \n",
       "2             947.0                         0.0              36.0   \n",
       "3            1583.0                        36.0             316.0   \n",
       "4            6212.0                       100.0             885.0   \n",
       "\n",
       "   Population Hawaiian  Population 2 or more Races  Population Hispanic   Age  \\\n",
       "0                 24.0                       299.0              45591.0  44.0   \n",
       "1                  0.0                       705.0              73752.0  45.2   \n",
       "2                  0.0                       147.0              32144.0  45.6   \n",
       "3                  0.0                       444.0              35651.0  40.5   \n",
       "4                  0.0                       715.0              56356.0  37.0   \n",
       "\n",
       "   Median Male Age  Median Female Age  \n",
       "0             42.9               45.1  \n",
       "1             43.9               46.6  \n",
       "2             44.0               47.0  \n",
       "3             38.4               42.8  \n",
       "4             35.6               38.2  "
      ]
     },
     "execution_count": 2,
     "metadata": {},
     "output_type": "execute_result"
    }
   ],
   "source": [
    "#Read Dataframes\n",
    "miacensus=pd.read_csv(\"miacensus_data.csv\", encoding=\"utf-8\")\n",
    "miacensus.head()"
   ]
  },
  {
   "cell_type": "code",
   "execution_count": 4,
   "metadata": {},
   "outputs": [
    {
     "data": {
      "text/html": [
       "<div>\n",
       "<style scoped>\n",
       "    .dataframe tbody tr th:only-of-type {\n",
       "        vertical-align: middle;\n",
       "    }\n",
       "\n",
       "    .dataframe tbody tr th {\n",
       "        vertical-align: top;\n",
       "    }\n",
       "\n",
       "    .dataframe thead th {\n",
       "        text-align: right;\n",
       "    }\n",
       "</style>\n",
       "<table border=\"1\" class=\"dataframe\">\n",
       "  <thead>\n",
       "    <tr style=\"text-align: right;\">\n",
       "      <th></th>\n",
       "      <th>zip</th>\n",
       "      <th>latit</th>\n",
       "      <th>longi</th>\n",
       "      <th>Gyms per Zip</th>\n",
       "    </tr>\n",
       "  </thead>\n",
       "  <tbody>\n",
       "    <tr>\n",
       "      <th>0</th>\n",
       "      <td>33114</td>\n",
       "      <td>25.789733</td>\n",
       "      <td>-80.225947</td>\n",
       "      <td>6</td>\n",
       "    </tr>\n",
       "    <tr>\n",
       "      <th>1</th>\n",
       "      <td>33002</td>\n",
       "      <td>25.866581</td>\n",
       "      <td>-80.304334</td>\n",
       "      <td>3</td>\n",
       "    </tr>\n",
       "    <tr>\n",
       "      <th>2</th>\n",
       "      <td>33018</td>\n",
       "      <td>25.923140</td>\n",
       "      <td>-80.399265</td>\n",
       "      <td>0</td>\n",
       "    </tr>\n",
       "    <tr>\n",
       "      <th>3</th>\n",
       "      <td>33017</td>\n",
       "      <td>25.941050</td>\n",
       "      <td>-80.300777</td>\n",
       "      <td>5</td>\n",
       "    </tr>\n",
       "    <tr>\n",
       "      <th>4</th>\n",
       "      <td>33016</td>\n",
       "      <td>25.892521</td>\n",
       "      <td>-80.335236</td>\n",
       "      <td>17</td>\n",
       "    </tr>\n",
       "  </tbody>\n",
       "</table>\n",
       "</div>"
      ],
      "text/plain": [
       "     zip      latit      longi  Gyms per Zip\n",
       "0  33114  25.789733 -80.225947             6\n",
       "1  33002  25.866581 -80.304334             3\n",
       "2  33018  25.923140 -80.399265             0\n",
       "3  33017  25.941050 -80.300777             5\n",
       "4  33016  25.892521 -80.335236            17"
      ]
     },
     "execution_count": 4,
     "metadata": {},
     "output_type": "execute_result"
    }
   ],
   "source": [
    "gyms =pd.read_csv(\"Number_Gyms_per_Zip(r=1000).csv\", encoding=\"utf-8\")\n",
    "gyms.head()"
   ]
  },
  {
   "cell_type": "code",
   "execution_count": null,
   "metadata": {},
   "outputs": [],
   "source": [
    "#Get Data from frames:\n",
    "#Find Mean and Median Income per Zipcode\n",
    "#Find Mean and Median Age per Zipcode\n",
    "#Find Mean and Median Education per Population\n",
    "#Count for gyms per zipcode"
   ]
  },
  {
   "cell_type": "markdown",
   "metadata": {},
   "source": [
    "Create Dataframe"
   ]
  },
  {
   "cell_type": "code",
   "execution_count": null,
   "metadata": {},
   "outputs": [],
   "source": [
    "#Merge Both Dataframes on Zip Code only keeping where both data are available\n",
    "\n",
    "#If time merge with other datframes such as kaggle income and yelp"
   ]
  },
  {
   "cell_type": "markdown",
   "metadata": {},
   "source": [
    "Frequency and Zip Code"
   ]
  },
  {
   "cell_type": "code",
   "execution_count": null,
   "metadata": {},
   "outputs": [],
   "source": [
    "#Heat Map with gyms and Zipcodes"
   ]
  },
  {
   "cell_type": "markdown",
   "metadata": {},
   "source": [
    "Frequency and Income"
   ]
  },
  {
   "cell_type": "code",
   "execution_count": null,
   "metadata": {},
   "outputs": [],
   "source": [
    "#Line Graph comparing Income of zipcodes from least to greatest and Frequency "
   ]
  },
  {
   "cell_type": "markdown",
   "metadata": {},
   "source": [
    "Frequency and Age"
   ]
  },
  {
   "cell_type": "code",
   "execution_count": null,
   "metadata": {},
   "outputs": [],
   "source": [
    "#Line Graph comparing age of zipcodes from least to greatest and Frequency "
   ]
  },
  {
   "cell_type": "markdown",
   "metadata": {},
   "source": [
    "Frequency and Education"
   ]
  },
  {
   "cell_type": "code",
   "execution_count": null,
   "metadata": {},
   "outputs": [],
   "source": [
    "#Line Graph comparing education of zipcodes from least to greatest and Frequency "
   ]
  },
  {
   "cell_type": "code",
   "execution_count": null,
   "metadata": {},
   "outputs": [],
   "source": []
  }
 ],
 "metadata": {
  "kernelspec": {
   "display_name": "Python 3",
   "language": "python",
   "name": "python3"
  },
  "language_info": {
   "codemirror_mode": {
    "name": "ipython",
    "version": 3
   },
   "file_extension": ".py",
   "mimetype": "text/x-python",
   "name": "python",
   "nbconvert_exporter": "python",
   "pygments_lexer": "ipython3",
   "version": "3.7.1"
  }
 },
 "nbformat": 4,
 "nbformat_minor": 2
}
